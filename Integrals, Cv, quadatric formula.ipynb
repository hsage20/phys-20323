{
 "cells": [
  {
   "cell_type": "code",
   "execution_count": null,
   "id": "a192464b",
   "metadata": {},
   "outputs": [],
   "source": [
    "def f(x):\n",
    "    return x**4-2*x+1\n",
    "N=1000\n",
    "a=0.0\n",
    "b=2.0\n",
    "h= (b-a)/N\n",
    "\n",
    "s= 0.5*f(a) + 0.5*f(b)\n",
    "for k in range (1, N):\n",
    "    s+= f(a+k*h)\n",
    "    \n",
    "print(h*s)\n"
   ]
  },
  {
   "cell_type": "code",
   "execution_count": 1,
   "id": "6b6c63dd",
   "metadata": {},
   "outputs": [
    {
     "name": "stdout",
     "output_type": "stream",
     "text": [
      "0.9333333333333333\n"
     ]
    }
   ],
   "source": [
    "#simpson's rule ignore this one\n",
    "import numpy as np\n",
    "\n",
    "N=10\n",
    "a=0\n",
    "b=2\n",
    "h= (b-a)/N\n",
    "q=0\n",
    "v=0  \n",
    "\n",
    "def f(x):\n",
    "        return x**4-2*x+1\n",
    "\n",
    "        for k in range (1, N//2):\n",
    "            q += ((f(a)+(2*k-1)*h))+2\n",
    "    \n",
    "        for k in range (1, ((N//2)-1)):\n",
    "            v += (f(a+2*k*h))\n",
    "    \n",
    "s= (h/3)*(f(a)+ f(b)+ 4*q + 2*v)\n",
    "print(s)"
   ]
  },
  {
   "cell_type": "code",
   "execution_count": null,
   "id": "eb315eb0",
   "metadata": {},
   "outputs": [],
   "source": [
    "#Simpson's rule problem 2"
   ]
  },
  {
   "cell_type": "code",
   "execution_count": 2,
   "id": "d0cb69a2",
   "metadata": {},
   "outputs": [
    {
     "name": "stdout",
     "output_type": "stream",
     "text": [
      "4.400426666666665\n",
      "4.400000042666677\n",
      "4.400000000004284\n"
     ]
    }
   ],
   "source": [
    "import numpy as np\n",
    "def f(x):\n",
    "    return x**4-2*x+1\n",
    "def simpson(f, a, b, n):\n",
    "    h=(b-a)/n\n",
    "    k=0.0\n",
    "    x= a + h\n",
    "    for i in range(1,n//2 + 1):\n",
    "        k += 4*f(x)\n",
    "        x += 2*h\n",
    "    x = a + 2*h\n",
    "    for i in range(1,n//2):\n",
    "        k += 2*f(x)\n",
    "        x += 2*h\n",
    "    return (h/3)*(f(a)+f(b)+k)\n",
    "\n",
    "print(simpson (f, 0, 2, 10))\n",
    "print(simpson (f, 0, 2, 100))\n",
    "print(simpson (f, 0, 2, 1000))"
   ]
  },
  {
   "cell_type": "code",
   "execution_count": null,
   "id": "d04fad49",
   "metadata": {},
   "outputs": [],
   "source": [
    "#Problem 1 quadratic formula "
   ]
  },
  {
   "cell_type": "code",
   "execution_count": 24,
   "id": "02a2e76e",
   "metadata": {},
   "outputs": [
    {
     "name": "stdout",
     "output_type": "stream",
     "text": [
      "input a:0.001\n",
      "Input b:1000\n",
      "Input c:0.001\n",
      "-9.999894245993346e-07\n",
      "-999999.999999\n",
      "-1000010.5755125057\n",
      "-1.000000000001e-06\n"
     ]
    }
   ],
   "source": [
    "import numpy as np\n",
    "a = float(input(\"input a:\"))\n",
    "b = float(input(\"Input b:\"))\n",
    "c = float(input(\"Input c:\"))\n",
    "xpos,xneg,xpos_2,xneg_2 = 0,0,0,0   \n",
    "\n",
    "xpos= (-b + (b*b-(4*a*c))**0.5)/(2*a)\n",
    "xneg= (-b -(b*b-(4*a*c))**0.5)/(2*a)\n",
    "\n",
    "print(xpos)\n",
    "print(xneg)\n",
    "\n",
    "xpos_2= (2*c/(-b + (b*b-(4*a*c))**0.5))\n",
    "xneg_2= (2*c/(-b - (b*b-(4*a*c))**0.5))\n",
    "\n",
    "print(xpos_2)\n",
    "print(xneg_2)\n",
    "\n",
    "#HS- think about complex numbers for part C maybe?\n",
    "#HS- 0.001,1000, 0.001"
   ]
  },
  {
   "cell_type": "code",
   "execution_count": null,
   "id": "1d1bd343",
   "metadata": {},
   "outputs": [],
   "source": [
    "#PROBLEM 3 HEAT CAPACITY OF A SOLID"
   ]
  },
  {
   "cell_type": "code",
   "execution_count": 23,
   "id": "40ebe0e8",
   "metadata": {},
   "outputs": [
    {
     "data": {
      "image/png": "[encoded data removed]",
      "text/plain": [
       "<Figure size 432x288 with 1 Axes>"
      ]
     },
     "metadata": {
      "needs_background": "light"
     },
     "output_type": "display_data"
    }
   ],
   "source": [
    "#note to future Hope- starting w/ integral (you defined as f(x) )then incorporate into larger formula to find heat capacity of Aluminum\n",
    "import numpy as np\n",
    "\n",
    "def f(x):\n",
    "    return (x**4 * (np.exp(x)))/((np.exp(x) -1)**2)\n",
    "N=1000 #taking 1000 sample points\n",
    "Debye= 428\n",
    "\n",
    "Tpoints = [] # empty array to strore # of Tl atoms at each time step\n",
    "heat_cappoints = [] # empty array to strore # of Pb atoms at each time step\n",
    "\n",
    "for T in range (5,500):\n",
    "    a= 0\n",
    "    b= (Debye/T)\n",
    "    h= (b-a)/N\n",
    "    \n",
    "    s= 0.5*0 + 0.5*f(b)\n",
    "    \n",
    "    for k in range (1,N):\n",
    "        s += f(a+k*h)\n",
    "        \n",
    "    #print(h*s) #checking integrand component\n",
    "    \n",
    "     \n",
    "    V= 1000e-6\n",
    "    p= 6.022e28\n",
    "    Boltz=1.38064852e-23\n",
    "    u = float(h*s)\n",
    "    C= 9*V*p*Boltz*(T/Debye)**3\n",
    "    heat_capacity=C*u\n",
    "    #print(heat_capacity)\n",
    "    Tpoints.append(T) # append starting # 5\n",
    "    heat_cappoints.append(heat_capacity) \n",
    "\n",
    "\n",
    "\n",
    "    \n",
    "\n",
    "from pylab import plot,xlabel,ylabel,show\n",
    "\n",
    "plot(Tpoints,heat_cappoints) # plot Temp vs. Cv\n",
    " # plot Temp vs. Cv\n",
    "xlabel(\"Temperature\")\n",
    "ylabel(\"heat capacity\")\n",
    "show()"
   ]
  },
  {
   "cell_type": "code",
   "execution_count": null,
   "id": "d01879f1",
   "metadata": {},
   "outputs": [],
   "source": []
  },
  {
   "cell_type": "code",
   "execution_count": null,
   "id": "61528f40",
   "metadata": {},
   "outputs": [],
   "source": []
  }
 ],
 "metadata": {
  "kernelspec": {
   "display_name": "Python 3",
   "language": "python",
   "name": "python3"
  },
  "language_info": {
   "codemirror_mode": {
    "name": "ipython",
    "version": 3
   },
   "file_extension": ".py",
   "mimetype": "text/x-python",
   "name": "python",
   "nbconvert_exporter": "python",
   "pygments_lexer": "ipython3",
   "version": "3.8.8"
  }
 },
 "nbformat": 4,
 "nbformat_minor": 5
}
